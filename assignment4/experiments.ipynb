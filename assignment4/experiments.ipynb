{
 "cells": [
  {
   "attachments": {},
   "cell_type": "markdown",
   "metadata": {},
   "source": [
    "# Assignment 4 #"
   ]
  },
  {
   "attachments": {},
   "cell_type": "markdown",
   "metadata": {},
   "source": [
    "We are given three columns of integers with a row for each node. The first two columns contain x and y coordinates of the node positions in a plane. The third column contains node costs. The goal is to select exactly 50% of the nodes (if the number of nodes is odd we round the number of nodes to be selected up) and form a Hamiltonian cycle (closed path) through this set of nodes such that the sum of the total length of the path plus the total cost of the selected nodes is minimized. The distances between nodes are calculated as Euclidean distances rounded mathematically to integer values. The distance matrix should be calculated just after reading an instance and then only the distance matrix (no nodes coordinates) should be accessed by optimization methods to allow instances defined only by distance matrices. "
   ]
  },
  {
   "attachments": {},
   "cell_type": "markdown",
   "metadata": {},
   "source": [
    "## Read the data ##"
   ]
  },
  {
   "cell_type": "code",
   "execution_count": 1,
   "metadata": {},
   "outputs": [],
   "source": [
    "import pandas as pd\n",
    "import numpy as np\n",
    "from numpy.typing import ArrayLike, NDArray\n",
    "import matplotlib.pyplot as plt\n",
    "import random\n",
    "from tqdm import tqdm\n",
    "from math import sqrt\n",
    "from typing import List, Optional, Tuple, Union "
   ]
  },
  {
   "cell_type": "code",
   "execution_count": 2,
   "metadata": {},
   "outputs": [],
   "source": [
    "# read data into dataframes\n",
    "instances = {\n",
    "    \"A\": pd.read_csv(\"data/TSPA.csv\", sep=';', header=None, names=[\"x\", \"y\", \"cost\"]),\n",
    "    \"B\": pd.read_csv(\"data/TSPB.csv\", sep=';', header=None, names=[\"x\", \"y\", \"cost\"]),\n",
    "    \"C\": pd.read_csv(\"data/TSPC.csv\", sep=';', header=None, names=[\"x\", \"y\", \"cost\"]),\n",
    "    \"D\": pd.read_csv(\"data/TSPD.csv\", sep=';', header=None, names=[\"x\", \"y\", \"cost\"]),\n",
    "}"
   ]
  },
  {
   "cell_type": "code",
   "execution_count": 3,
   "metadata": {},
   "outputs": [],
   "source": [
    "def calculate_distance_matrix(df: pd.DataFrame) -> NDArray[np.int32]:\n",
    "    \"\"\"\n",
    "    Calculate the distance matrix from the dataframe.\n",
    "    The dataframe contains 'x' and 'y' columns for the coordinates.\n",
    "    The distances are Euclidean, rounded to the nearest integer + the cost of the destination node.\n",
    "    \"\"\"\n",
    "    coordinates = df[['x', 'y']].to_numpy()\n",
    "    dist_matrix = np.zeros(shape=(len(df), len(df)))\n",
    "    for i in range(len(coordinates)):\n",
    "        for j in range(len(coordinates)):\n",
    "            dist_matrix[i, j] = round(sqrt((coordinates[i, 0] - coordinates[j, 0])**2 + (coordinates[i, 1] - coordinates[j, 1])**2))\n",
    "    return dist_matrix"
   ]
  },
  {
   "cell_type": "code",
   "execution_count": 4,
   "metadata": {},
   "outputs": [],
   "source": [
    "def calculate_nearest_vertices(dist_matrix: np.ndarray, costs: np.ndarray, num_candidates: int = 10) -> dict:\n",
    "    num_vertices = dist_matrix.shape[0]\n",
    "    nearest_vertices = []\n",
    "\n",
    "    for i in range(num_vertices):\n",
    "        cost_distance_sum = dist_matrix[i, :] + costs\n",
    "        sorted_vertices = np.argsort(cost_distance_sum)\n",
    "        nearest_vertices.append([vertex for vertex in sorted_vertices if vertex != i][:num_candidates])\n",
    "\n",
    "    return nearest_vertices"
   ]
  },
  {
   "cell_type": "code",
   "execution_count": 5,
   "metadata": {},
   "outputs": [],
   "source": [
    "distances_matrices = {\n",
    "    \"A\": calculate_distance_matrix(instances[\"A\"]),\n",
    "    \"B\": calculate_distance_matrix(instances[\"B\"]),\n",
    "    \"C\": calculate_distance_matrix(instances[\"C\"]),\n",
    "    \"D\": calculate_distance_matrix(instances[\"D\"])\n",
    "}\n",
    "\n",
    "costs = {\n",
    "    \"A\": instances[\"A\"][\"cost\"].to_numpy(),\n",
    "    \"B\": instances[\"B\"][\"cost\"].to_numpy(),\n",
    "    \"C\": instances[\"C\"][\"cost\"].to_numpy(),\n",
    "    \"D\": instances[\"D\"][\"cost\"].to_numpy()\n",
    "}\n",
    "\n",
    "nearest_vertices = {\n",
    "    \"A\": calculate_nearest_vertices(distances_matrices[\"A\"], costs[\"A\"]),\n",
    "    \"B\": calculate_nearest_vertices(distances_matrices[\"B\"], costs[\"B\"]),\n",
    "    \"C\": calculate_nearest_vertices(distances_matrices[\"C\"], costs[\"C\"]),\n",
    "    \"D\": calculate_nearest_vertices(distances_matrices[\"D\"], costs[\"D\"])\n",
    "}"
   ]
  },
  {
   "cell_type": "code",
   "execution_count": 6,
   "metadata": {},
   "outputs": [],
   "source": [
    "def visualize_selected_route(\n",
    "    selected_nodes_indices: ArrayLike, \n",
    "    dataframe: pd.DataFrame,\n",
    "    title: str) -> None:\n",
    "    \"\"\"\n",
    "    Visualize the selected route returned by the algorithm, including the cost of each node represented by a colormap.\n",
    "\n",
    "    Parameters:\n",
    "    selected_nodes_indices (list): Indices of the selected nodes in the route.\n",
    "    dataframe (DataFrame): DataFrame containing 'x', 'y', and 'cost' columns for each node.\n",
    "    \"\"\"\n",
    "    x = dataframe[\"x\"].to_numpy()\n",
    "    y = dataframe[\"y\"].to_numpy()\n",
    "    costs = dataframe[\"cost\"].to_numpy()\n",
    "\n",
    "    cmap = plt.cm.get_cmap('viridis')\n",
    "    norm = plt.Normalize(vmin=min(costs), vmax=max(costs))\n",
    "\n",
    "    plt.figure(figsize=(15, 10))\n",
    "    scatter = plt.scatter(x, y, c=costs, cmap=cmap, norm=norm, s=100)\n",
    "    plt.colorbar(scatter, label='Node Cost')\n",
    "\n",
    "    for i, node in enumerate(selected_nodes_indices):\n",
    "        start_node = selected_nodes_indices[i]\n",
    "        end_node = selected_nodes_indices[(i + 1) % len(selected_nodes_indices)]\n",
    "        plt.plot([x[start_node], x[end_node]], [y[start_node], y[end_node]], 'k-', lw=1)\n",
    "\n",
    "    plt.title(title, fontsize=18)\n",
    "    plt.xlabel('X Coordinate', fontsize=14)\n",
    "    plt.ylabel('Y Coordinate', fontsize=14)\n",
    "    plt.grid(True)\n",
    "    plt.show()"
   ]
  },
  {
   "cell_type": "code",
   "execution_count": 7,
   "metadata": {},
   "outputs": [],
   "source": [
    "def objective_function(solution: list[int], dist_matrix: list[list[int]], costs: list[int]) -> int:\n",
    "    total_score = 0\n",
    "    n = len(solution)\n",
    "    for x in range(n):\n",
    "        total_score += dist_matrix[solution[x - 1]][solution[x]]\n",
    "        total_score += costs[solution[x]]\n",
    "    return total_score"
   ]
  },
  {
   "cell_type": "code",
   "execution_count": 8,
   "metadata": {},
   "outputs": [],
   "source": [
    "# A function that generates a random solution\n",
    "def generate_random_solution(n: int) -> list[int]:\n",
    "    \"\"\"\n",
    "    Generate a random solution for a given number of nodes.\n",
    "\n",
    "    :param n: The number of nodes.\n",
    "    :return: A list of nodes representing the solution.\n",
    "    \"\"\"\n",
    "    return random.sample(range(0, n * 2), n)"
   ]
  },
  {
   "cell_type": "code",
   "execution_count": 88,
   "metadata": {},
   "outputs": [],
   "source": [
    "def two_edges_exchange(current_solution: list[int], \n",
    "                       nearest_vertices: list[list[int]],\n",
    "                       score,\n",
    "                       distance_matrix,\n",
    "                       cost) -> list[list[int]]:\n",
    "    \"\"\"\n",
    "    Generate new solutions by exchanging two edges in the current solution.\n",
    "\n",
    "    :param current_solution: List of nodes in the current solution.\n",
    "    :param current_score: The score of the current solution.\n",
    "    :param distance_matrix: 2D list representing the distances between nodes.\n",
    "    :return: A list of tuples where each tuple contains a new solution and its score.\n",
    "    \"\"\"\n",
    "    n = len(current_solution)\n",
    "    new_solutions = []\n",
    "\n",
    "    for i in range(n):\n",
    "        node1 = current_solution[i]\n",
    "        node1_index = i\n",
    "        node2_candidates = nearest_vertices[node1]\n",
    "        \n",
    "        for node2 in node2_candidates:\n",
    "            if node2 in current_solution:\n",
    "                node2_index = current_solution.index(node2)\n",
    "                print(node2, node1)\n",
    "\n",
    "                if node2_index < node1_index:\n",
    "                    node1_index, node2_index = node2_index, node1_index\n",
    "                \n",
    "                if (node2_index - node1_index) % n > 1:\n",
    "                        \n",
    "                    new_solution1 = (current_solution[:node1_index] \n",
    "                                    + current_solution[node1_index :node2_index][::-1] \n",
    "                                    + current_solution[node2_index  :])\n",
    "                    \n",
    "                    new_solution2 = (current_solution[:node1_index + 1] \n",
    "                                    + current_solution[node2_index:] \n",
    "                                    + current_solution[node1_index + 1:node2_index][::-1])\n",
    "                    \n",
    "                    new_solutions.append(new_solution1)\n",
    "                    new_solutions.append(new_solution2)\n",
    "    \n",
    "    return new_solutions"
   ]
  },
  {
   "cell_type": "code",
   "execution_count": 90,
   "metadata": {},
   "outputs": [
    {
     "name": "stdout",
     "output_type": "stream",
     "text": [
      "7 0\n"
     ]
    },
    {
     "data": {
      "text/plain": [
       "[[2, 8, 3, 5, 1, 6, 4, 7, 0], [2, 7, 0, 8, 3, 5, 1, 6, 4]]"
      ]
     },
     "execution_count": 90,
     "metadata": {},
     "output_type": "execute_result"
    }
   ],
   "source": [
    "sol = [2,7,4,6,1,5,3,8,0]\n",
    "nearest_vertics = [\n",
    "    [7],[],[],[],[],[],[],[],[]\n",
    "]\n",
    "score=0 \n",
    "dis=distances_matrices[\"A\"]\n",
    "cost=costs[\"A\"]\n",
    "two_edges_exchange(sol, nearest_vertics, score, dis, cost)"
   ]
  },
  {
   "cell_type": "code",
   "execution_count": 78,
   "metadata": {},
   "outputs": [],
   "source": [
    "def inter_route_exchange_simple(selected, unselected, score, distance_matrix, costs,  nearest_vertices):\n",
    "    new_solutions = []\n",
    "\n",
    "    # Assume node indices are 0-based for distance_matrix\n",
    "    for selected_node in selected:\n",
    "        for node in nearest_vertices[selected_node]:\n",
    "            if node in unselected:\n",
    "                new_solution1 = selected.copy()\n",
    "                new_solution2 = selected.copy()\n",
    "                replaced_node_index1= selected.index(selected_node)-1\n",
    "                replaced_node_index2= selected.index(selected_node)+1\n",
    "\n",
    "            \n",
    "                # Assuming 'selected' and 'unselected' contain 0-based indices already\n",
    "                new_solution1[replaced_node_index1] = node\n",
    "                new_solution2[replaced_node_index2] = node\n",
    "\n",
    "                prev_node_index1 = (replaced_node_index1 - 1) % len(selected)\n",
    "                next_node_index1 = (replaced_node_index1 + 1) % len(selected)\n",
    "\n",
    "                prev_node_index2 = (replaced_node_index2 - 1) % len(selected)\n",
    "                next_node_index2 = (replaced_node_index2 + 1) % len(selected)\n",
    "\n",
    "                # Calculate score_delta considering 0-based indices for distance_matrix\n",
    "                score_delta1 = (\n",
    "                    -distance_matrix[selected[prev_node_index1]][selected_node]\n",
    "                    -distance_matrix[selected_node][selected[next_node_index1]]\n",
    "                    +distance_matrix[selected[prev_node_index1]][node]\n",
    "                    +distance_matrix[node][selected[next_node_index1]]\n",
    "                    -costs[selected_node]\n",
    "                    +costs[node]\n",
    "                )\n",
    "                score_delta2 = (\n",
    "                    -distance_matrix[selected[prev_node_index2]][selected_node]\n",
    "                    -distance_matrix[selected_node][selected[next_node_index2]]\n",
    "                    +distance_matrix[selected[prev_node_index2]][node]\n",
    "                    +distance_matrix[node][selected[next_node_index2]]\n",
    "                    -costs[selected_node]\n",
    "                    +costs[node]\n",
    "                )\n",
    "            new_score1 = score + score_delta1\n",
    "\n",
    "            new_solutions.append((new_solution1, new_score1))\n",
    "            new_score2= score + score_delta2\n",
    "\n",
    "            new_solutions.append((new_solution2, new_score2))\n",
    "\n",
    "    return new_solutions\n"
   ]
  },
  {
   "cell_type": "code",
   "execution_count": 79,
   "metadata": {},
   "outputs": [
    {
     "data": {
      "text/plain": [
       "[([0, 1, 2, 3, 4, 5, 6, 7, 8, 23], 3646.0),\n",
       " ([0, 23, 2, 3, 4, 5, 6, 7, 8, 9], 3768.0)]"
      ]
     },
     "execution_count": 79,
     "metadata": {},
     "output_type": "execute_result"
    }
   ],
   "source": [
    "sol = [ x for x in range (10)]\n",
    "uns = [x for x in range (20,25)]\n",
    "score=0 \n",
    "dis=distances_matrices[\"A\"]\n",
    "cost=costs[\"A\"]\n",
    "\n",
    "nearest_vertics = [\n",
    "    [23],[],[],[],[],[],[],[],[],[]\n",
    "]\n",
    "inter_route_exchange_simple(sol, uns, score, dis, cost,  nearest_vertics)"
   ]
  },
  {
   "cell_type": "markdown",
   "metadata": {},
   "source": [
    "# Repository for Local Search solution finder #"
   ]
  },
  {
   "cell_type": "code",
   "execution_count": 7,
   "metadata": {},
   "outputs": [],
   "source": [
    "from abc import ABC, abstractmethod\n",
    "from typing import Union, Optional\n",
    "\n",
    "\n",
    "class LocalSearch(ABC):\n",
    "    \"\"\"\n",
    "    Abstract class for local search algorithms.\n",
    "    \"\"\"\n",
    "    def __init__(self, \n",
    "                 initial_solution: list[int], \n",
    "                 distance_matrix: list[list[int]], \n",
    "                 costs: list[int]) -> None:\n",
    "        \"\"\"\n",
    "        :param initial_solution: The initial solution.\n",
    "        :param initial_score: The score of the initial solution.\n",
    "        :param distance_matrix: 2D list representing the distances between nodes.\n",
    "        \"\"\"\n",
    "        self.initial_solution = initial_solution\n",
    "        self.initial_score = objective_function(initial_solution, distance_matrix, costs)\n",
    "        self.distance_matrix = distance_matrix\n",
    "        self.costs = costs\n",
    "        \n",
    "        self.all_nodes = list(range(100*2))\n",
    "        self.unselected_nodes = [node for node in self.all_nodes if node not in self.initial_solution]\n",
    "        \n",
    "        self.current_solution: list[int] = initial_solution\n",
    "        self.current_score = self.initial_score\n",
    "        \n",
    "        self.moves = {\n",
    "            \"intra-two-edges-exchange\": self.two_edges_exchange,\n",
    "            \"intra-two-nodes-exchange\": self.two_nodes_exchange,\n",
    "            \"inter-route-exchange\": self.inter_route_exchange\n",
    "        }\n",
    "        \n",
    "        self.moves_utils = {\n",
    "            \"intra-two-edges-exchange\": self.get_utils_intra_two_edges_exchange,\n",
    "            \"intra-two-nodes-exchange\": self.get_utils_intra_two_nodes_exchange,\n",
    "            \"inter-route-exchange\": self.get_utils_inter_route_exchange\n",
    "        }\n",
    "        \n",
    "    \n",
    "    @abstractmethod\n",
    "    def candidates_moves\n",
    "        \n",
    "        \n",
    "    @abstractmethod\n",
    "    def get_utils_intra_two_edges_exchange(self):\n",
    "        raise NotImplementedError\n",
    "    \n",
    "    @abstractmethod\n",
    "    def get_utils_intra_two_nodes_exchange(self):\n",
    "        raise NotImplementedError\n",
    "    \n",
    "    @abstractmethod\n",
    "    def get_utils_inter_route_exchange(self):\n",
    "        raise NotImplementedError\n",
    "\n",
    "    # two method for intra moves\n",
    "    @abstractmethod\n",
    "    def two_edges_exchange(self, start_index: int = 0, direction: str = \"right\") -> Union[tuple[list[int], int], None]:\n",
    "        \"\"\"This method should return a new solution and its score if a better solution is found, otherwise None.\n",
    "        For a greedy algorithm, the first better solution found should be returned. For a steepest local search,\n",
    "        the best solution among all possible solutions should be returned, if there is no better solution, just\n",
    "        return None. For a steepest local search, both neighborhood moves will return one solution, then we will\n",
    "        take the better one among these two solutions.\n",
    "\n",
    "        Parameters\n",
    "        ----------\n",
    "        current_solution : list[int]\n",
    "        current_distance : int\n",
    "        distance_matrix : list[list[int]]\n",
    "\n",
    "        Returns\n",
    "        -------\n",
    "        tuple[list[int], int] | None\n",
    "            A single better solution founded by the algorithm, or None if no better solution is found.\n",
    "        \"\"\"\n",
    "        raise NotImplementedError\n",
    "    \n",
    "    @abstractmethod\n",
    "    def two_nodes_exchange(self, start_index=0, direction='right') -> Union[tuple[list[int], int] , None]:\n",
    "        raise NotImplementedError\n",
    "    \n",
    "    # one method for inter move\n",
    "    @abstractmethod\n",
    "    def inter_route_exchange(self, start_index=0, direction=\"right\") -> Union[tuple[list[int], int] , None]:\n",
    "        raise NotImplementedError\n",
    "    \n",
    "    @abstractmethod\n",
    "    def run(self, *args, **kwargs) -> None:\n",
    "        \"\"\"\n",
    "        Run the algorithm.\n",
    "        \"\"\"\n",
    "        pass"
   ]
  },
  {
   "cell_type": "code",
   "execution_count": 8,
   "metadata": {},
   "outputs": [],
   "source": [
    "class CandidateLocalSearch(LocalSearch):\n",
    "    def __init__(self, \n",
    "                 initial_solution: list[int], \n",
    "                 distance_matrix: list[list[int]], \n",
    "                 costs: list[int]) -> None:\n",
    "        super().__init__(initial_solution, distance_matrix, costs)\n",
    "        self.nearest_vertices = self.candidate_nodes\n",
    "\n",
    "    def candidate_nodes(self, \n",
    "                        num_candidates):\n",
    "        num_sol = len(self.distance_matrix[0])\n",
    "        self.candidates = [[] for x in range(num_sol)]\n",
    "        for x in range( num_sol ):\n",
    "           distance_and_cost=distances_matrices[\"A\"][x] + costs[\"A\"]\n",
    "           temp = sorted(range(num_sol), key=lambda k: distance_and_cost[k])[:num_candidates+1]\n",
    "           if x in temp:\n",
    "            temp.remove(x)\n",
    "           else:\n",
    "            temp.remove(temp[-1])\n",
    "           self.candidates[x] = temp \n",
    "\n",
    "\n",
    "        "
   ]
  },
  {
   "cell_type": "code",
   "execution_count": 107,
   "metadata": {},
   "outputs": [
    {
     "name": "stdout",
     "output_type": "stream",
     "text": [
      "447.0\n",
      "547.0\n",
      "562.0\n",
      "695.0\n",
      "760.0\n",
      "895.0\n",
      "906.0\n",
      "960.0\n",
      "972.0\n",
      "988.0\n"
     ]
    }
   ],
   "source": [
    "num_candidates=10\n",
    "num_sol = len(distances_matrices[\"A\"])\n",
    "\n",
    "candidates = [[] for x in range(num_sol)]\n",
    "\n",
    "for x in range( num_sol ):\n",
    "    distance_and_cost=distances_matrices[\"A\"][x] + costs[\"A\"]\n",
    "    temp = sorted(range(num_sol), key=lambda k: distance_and_cost[k])[:num_candidates+1]\n",
    "    \n",
    "    if x in temp:\n",
    "        temp.remove(x)\n",
    "    else:\n",
    "        temp.remove(temp[-1])\n",
    "    candidates[x] = temp \n",
    "\n",
    "for x in candidates[0]:\n",
    "    distance_and_cost=distances_matrices[\"A\"][0] + costs[\"A\"]\n",
    "    print(distance_and_cost[x])\n"
   ]
  },
  {
   "cell_type": "code",
   "execution_count": 97,
   "metadata": {},
   "outputs": [
    {
     "data": {
      "text/plain": [
       "1415"
      ]
     },
     "execution_count": 97,
     "metadata": {},
     "output_type": "execute_result"
    }
   ],
   "source": [
    "costs[\"A\"][115]"
   ]
  }
 ],
 "metadata": {
  "kernelspec": {
   "display_name": "base",
   "language": "python",
   "name": "python3"
  },
  "language_info": {
   "codemirror_mode": {
    "name": "ipython",
    "version": 3
   },
   "file_extension": ".py",
   "mimetype": "text/x-python",
   "name": "python",
   "nbconvert_exporter": "python",
   "pygments_lexer": "ipython3",
   "version": "3.9.12"
  }
 },
 "nbformat": 4,
 "nbformat_minor": 2
}
