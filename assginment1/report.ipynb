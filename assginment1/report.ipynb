{
 "cells": [
  {
   "cell_type": "markdown",
   "metadata": {},
   "source": [
    "This notebook will contain:\n",
    "* Description of the problem \n",
    "* Pseudocode of all implemented algorithms \n",
    "* Results of a computational experiment: for each instance and method min, max and average value of the objective function. \n",
    "* 2D visualization of the best solution for each instance and methods. Cost of nodes should be presented e.g. by a color, greyscale, or size. \n",
    "* (link to) source code \n",
    "* Conclusions "
   ]
  }
 ],
 "metadata": {
  "kernelspec": {
   "display_name": "Python 3",
   "language": "python",
   "name": "python3"
  },
  "language_info": {
   "name": "python",
   "version": "3.10.9"
  }
 },
 "nbformat": 4,
 "nbformat_minor": 2
}
