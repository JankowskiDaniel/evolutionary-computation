{
 "cells": [
  {
   "attachments": {},
   "cell_type": "markdown",
   "metadata": {},
   "source": [
    "# Assignment 3 #"
   ]
  },
  {
   "attachments": {},
   "cell_type": "markdown",
   "metadata": {},
   "source": [
    "We are given three columns of integers with a row for each node. The first two columns contain x and y coordinates of the node positions in a plane. The third column contains node costs. The goal is to select exactly 50% of the nodes (if the number of nodes is odd we round the number of nodes to be selected up) and form a Hamiltonian cycle (closed path) through this set of nodes such that the sum of the total length of the path plus the total cost of the selected nodes is minimized. The distances between nodes are calculated as Euclidean distances rounded mathematically to integer values. The distance matrix should be calculated just after reading an instance and then only the distance matrix (no nodes coordinates) should be accessed by optimization methods to allow instances defined only by distance matrices. "
   ]
  },
  {
   "attachments": {},
   "cell_type": "markdown",
   "metadata": {},
   "source": [
    "## Read the data ##"
   ]
  },
  {
   "cell_type": "code",
   "execution_count": 157,
   "metadata": {},
   "outputs": [],
   "source": [
    "import pandas as pd\n",
    "import numpy as np\n",
    "from numpy.typing import ArrayLike, NDArray\n",
    "import matplotlib.pyplot as plt\n",
    "import random\n",
    "from tqdm import tqdm\n",
    "from math import sqrt"
   ]
  },
  {
   "cell_type": "code",
   "execution_count": 158,
   "metadata": {},
   "outputs": [],
   "source": [
    "# read data into dataframes\n",
    "instances = {\n",
    "    \"A\": pd.read_csv(\"data/TSPA.csv\", sep=';', header=None, names=[\"x\", \"y\", \"cost\"]),\n",
    "    \"B\": pd.read_csv(\"data/TSPB.csv\", sep=';', header=None, names=[\"x\", \"y\", \"cost\"]),\n",
    "    \"C\": pd.read_csv(\"data/TSPC.csv\", sep=';', header=None, names=[\"x\", \"y\", \"cost\"]),\n",
    "    \"D\": pd.read_csv(\"data/TSPD.csv\", sep=';', header=None, names=[\"x\", \"y\", \"cost\"]),\n",
    "}"
   ]
  },
  {
   "cell_type": "code",
   "execution_count": 159,
   "metadata": {},
   "outputs": [
    {
     "data": {
      "text/plain": [
       "200"
      ]
     },
     "execution_count": 159,
     "metadata": {},
     "output_type": "execute_result"
    }
   ],
   "source": [
    "len(instances[\"A\"])"
   ]
  },
  {
   "cell_type": "code",
   "execution_count": 160,
   "metadata": {},
   "outputs": [],
   "source": [
    "def calculate_distance_matrix(df: pd.DataFrame) -> NDArray[np.int32]:\n",
    "    \"\"\"\n",
    "    Calculate the distance matrix from the dataframe.\n",
    "    The dataframe contains 'x' and 'y' columns for the coordinates.\n",
    "    The distances are Euclidean, rounded to the nearest integer + the cost of the destination node.\n",
    "    \"\"\"\n",
    "    coordinates = df[['x', 'y']].to_numpy()\n",
    "    costs = df[\"cost\"].to_numpy()\n",
    "    dist_matrix = np.zeros(shape=(len(df), len(df)))\n",
    "    for i in range(len(coordinates)):\n",
    "        for j in range(len(coordinates)):\n",
    "            dist_matrix[i, j] = round(sqrt((coordinates[i, 0] - coordinates[j, 0])**2 + (coordinates[i, 1] - coordinates[j, 1])**2)) + costs[j]\n",
    "    return dist_matrix"
   ]
  },
  {
   "cell_type": "code",
   "execution_count": 161,
   "metadata": {},
   "outputs": [],
   "source": [
    "distances_matrices = {\n",
    "    \"A\": calculate_distance_matrix(instances[\"A\"]),\n",
    "    \"B\": calculate_distance_matrix(instances[\"B\"]),\n",
    "    \"C\": calculate_distance_matrix(instances[\"C\"]),\n",
    "    \"D\": calculate_distance_matrix(instances[\"D\"])\n",
    "}\n",
    "\n",
    "costs = {\n",
    "    \"A\": instances[\"A\"][\"cost\"].to_numpy(),\n",
    "    \"B\": instances[\"B\"][\"cost\"].to_numpy(),\n",
    "    \"C\": instances[\"C\"][\"cost\"].to_numpy(),\n",
    "    \"D\": instances[\"D\"][\"cost\"].to_numpy()\n",
    "}"
   ]
  },
  {
   "cell_type": "code",
   "execution_count": 162,
   "metadata": {},
   "outputs": [],
   "source": [
    "def visualize_selected_route(\n",
    "    selected_nodes_indices: ArrayLike, \n",
    "    dataframe: pd.DataFrame,\n",
    "    title: str) -> None:\n",
    "    \"\"\"\n",
    "    Visualize the selected route returned by the algorithm, including the cost of each node represented by a colormap.\n",
    "\n",
    "    Parameters:\n",
    "    selected_nodes_indices (list): Indices of the selected nodes in the route.\n",
    "    dataframe (DataFrame): DataFrame containing 'x', 'y', and 'cost' columns for each node.\n",
    "    \"\"\"\n",
    "    x = dataframe.loc[selected_nodes_indices, 'x']\n",
    "    y = dataframe.loc[selected_nodes_indices, 'y']\n",
    "    costs = dataframe.loc[selected_nodes_indices, 'cost']\n",
    "\n",
    "    cmap = plt.cm.get_cmap('viridis')\n",
    "    norm = plt.Normalize(vmin=min(costs), vmax=max(costs))\n",
    "\n",
    "    plt.figure(figsize=(15, 10))\n",
    "    scatter = plt.scatter(x, y, c=costs, cmap=cmap, norm=norm, s=100)\n",
    "    plt.colorbar(scatter, label='Node Cost')\n",
    "\n",
    "    for i, node in enumerate(selected_nodes_indices):\n",
    "        start_node = selected_nodes_indices[i]\n",
    "        end_node = selected_nodes_indices[(i + 1) % len(selected_nodes_indices)]\n",
    "        plt.plot([x[start_node], x[end_node]], [y[start_node], y[end_node]], 'k-', lw=1)\n",
    "\n",
    "    plt.title(title, fontsize=18)\n",
    "    plt.xlabel('X Coordinate', fontsize=14)\n",
    "    plt.ylabel('Y Coordinate', fontsize=14)\n",
    "    plt.grid(True)\n",
    "    plt.show()"
   ]
  },
  {
   "cell_type": "code",
   "execution_count": 163,
   "metadata": {},
   "outputs": [],
   "source": [
    "\n",
    "def inter_route_exchange(selected , unselected, score,dist_matrix):\n",
    "    solutions = []\n",
    "    for x in range(len(selected)+1):\n",
    "        for node in unselected:\n",
    "            temp_score = score\n",
    "            #wklejenie unselected node pomiedzy selected\n",
    "            temp = selected[:x]+[node]+selected[x:]\n",
    "            #usunięcie i zmienienie edga poprzedzającego node\n",
    "            temp_score -= dist_matrix[selected[x-1]][selected[x]]\n",
    "            temp_score += dist_matrix[selected[x-1]][node]\n",
    "\n",
    "            #usunięcie i zmienienie edga następującego po node\n",
    "            #jeśli index x+1 byłoby out of range ubezpieczenie\n",
    "            if selected[x]==selected[-1]:\n",
    "                idx = selected[0]\n",
    "            else:\n",
    "                idx = selected[x+1]\n",
    "            temp_score -= dist_matrix[selected[x]][idx]\n",
    "            temp_score += dist_matrix[node][idx]\n",
    "            \n",
    "            solutions.append((temp,temp_score))\n",
    "            \n",
    "    return solutions\n",
    "\n",
    "def two_edges_exchange(selected, score, dist_matrix):\n",
    "    solutions=[]\n",
    "    for x in range(len(selected)-1): \n",
    "        for y in range(x+1,len(selected)):\n",
    "            temp = selected[:]\n",
    "            temp_score = score\n",
    "\n",
    "            # jeśli y+1 jest idx out of range\n",
    "            if temp[y] == temp[-1]:\n",
    "                idy=temp[0]\n",
    "            else:\n",
    "                idy=temp[y+1]\n",
    "\n",
    "            #część do odjęcia od dystansów, cześć rozwiązania do odwócenia plus sąsiadujące nody które się nie zmieniają\n",
    "            part_to_reverse = [temp[x-1]] + temp[x:y+1] + [idy]\n",
    "\n",
    "\n",
    "            #część do dodania do dystansów, część rozwiązania odwrócona plus sąsiadujące nody które się nie zmieniają \n",
    "            reversed_part = [temp[x-1]] + temp[x:y+1][::-1] + [idy]\n",
    "\n",
    "\n",
    "            # usunięcie i zmienienie dystansów części któraj jest odwrócona\n",
    "            for idx in range(len(part_to_reverse)):\n",
    "                temp_score -= dist_matrix[part_to_reverse[idx-1]][part_to_reverse[idx]]\n",
    "                temp_score += dist_matrix[reversed_part[idx-1]][reversed_part[idx]]\n",
    "            \n",
    "            temp[x:y+1] = temp[x:y+1][::-1]\n",
    "            \n",
    "            solutions.append((temp, temp_score))\n",
    "    return solutions\n",
    "\n",
    "def two_nodes_exchange(selected, score, dist_matrix):\n",
    "    solutions=[]\n",
    "    for x in range(len(selected)): \n",
    "        for y in range(x+1,len(selected)):\n",
    "            temp=selected[:]\n",
    "            temp_score=score\n",
    "            #podmiana nodów\n",
    "            temp[x],temp[y]=temp[y],temp[x]\n",
    "\n",
    "            #usunięcie i zmienienie edgy poprzedzających node\n",
    "            temp_score-=dist_matrix[temp[x-1]][temp[x]]\n",
    "            temp_score+=dist_matrix[temp[x-1]][temp[y]]\n",
    "            temp_score-=dist_matrix[temp[y-1]][temp[y]]\n",
    "            temp_score+=dist_matrix[temp[y-1]][temp[x]]\n",
    "\n",
    "            #kiedy byłby index x+1 out of range\n",
    "            if temp[-1]==temp[x]:\n",
    "                idx=temp[0]\n",
    "            else: \n",
    "                idx=temp[x+1]\n",
    "\n",
    "            #kiedy byłby index y+1 out of range \n",
    "            if temp[-1]==temp[y]:\n",
    "                idy=temp[0]\n",
    "            else:\n",
    "                idy=temp[y+1]\n",
    "            \n",
    "            #usunięcie i zmienienie edgy następujących po node\n",
    "            temp_score-=dist_matrix[temp[x]][idx]\n",
    "            temp_score-=dist_matrix[temp[y]][idy]\n",
    "            temp_score+=dist_matrix[temp[x]][idy]\n",
    "            temp_score+=dist_matrix[temp[y]][idx]\n",
    "\n",
    "\n",
    "            solutions.append((temp,temp_score))\n",
    "    return solutions\n",
    "\n",
    "def objective_function(solution,dist_matrix):\n",
    "    for x in range(len(solution)):\n",
    "        total_dist+=dist_matrix[solution[x-1],solution[x]]\n",
    "    return total_dist"
   ]
  },
  {
   "cell_type": "code",
   "execution_count": 164,
   "metadata": {},
   "outputs": [
    {
     "data": {
      "text/plain": [
       "[([1, 0, 2, 3, 4, 5, 6, 7, 8, 9], 1135.0),\n",
       " ([2, 1, 0, 3, 4, 5, 6, 7, 8, 9], 779.0),\n",
       " ([3, 2, 1, 0, 4, 5, 6, 7, 8, 9], 1976.0),\n",
       " ([4, 3, 2, 1, 0, 5, 6, 7, 8, 9], 1919.0),\n",
       " ([5, 4, 3, 2, 1, 0, 6, 7, 8, 9], 2640.0),\n",
       " ([6, 5, 4, 3, 2, 1, 0, 7, 8, 9], 1687.0),\n",
       " ([7, 6, 5, 4, 3, 2, 1, 0, 8, 9], 2230.0),\n",
       " ([8, 7, 6, 5, 4, 3, 2, 1, 0, 9], 2000.0),\n",
       " ([9, 8, 7, 6, 5, 4, 3, 2, 1, 0], -606.0),\n",
       " ([0, 2, 1, 3, 4, 5, 6, 7, 8, 9], 1999.0),\n",
       " ([0, 3, 2, 1, 4, 5, 6, 7, 8, 9], 783.0),\n",
       " ([0, 4, 3, 2, 1, 5, 6, 7, 8, 9], 919.0),\n",
       " ([0, 5, 4, 3, 2, 1, 6, 7, 8, 9], 3557.0),\n",
       " ([0, 6, 5, 4, 3, 2, 1, 7, 8, 9], 3396.0),\n",
       " ([0, 7, 6, 5, 4, 3, 2, 1, 8, 9], 241.0),\n",
       " ([0, 8, 7, 6, 5, 4, 3, 2, 1, 9], 2492.0),\n",
       " ([0, 9, 8, 7, 6, 5, 4, 3, 2, 1], 2000.0),\n",
       " ([0, 1, 3, 2, 4, 5, 6, 7, 8, 9], 2031.0),\n",
       " ([0, 1, 4, 3, 2, 5, 6, 7, 8, 9], 1976.0),\n",
       " ([0, 1, 5, 4, 3, 2, 6, 7, 8, 9], 3283.0),\n",
       " ([0, 1, 6, 5, 4, 3, 2, 7, 8, 9], 3125.0),\n",
       " ([0, 1, 7, 6, 5, 4, 3, 2, 8, 9], 2607.0),\n",
       " ([0, 1, 8, 7, 6, 5, 4, 3, 2, 9], 1939.0),\n",
       " ([0, 1, 9, 8, 7, 6, 5, 4, 3, 2], 1135.0),\n",
       " ([0, 1, 2, 4, 3, 5, 6, 7, 8, 9], 1799.0),\n",
       " ([0, 1, 2, 5, 4, 3, 6, 7, 8, 9], 3799.0),\n",
       " ([0, 1, 2, 6, 5, 4, 3, 7, 8, 9], 2153.0),\n",
       " ([0, 1, 2, 7, 6, 5, 4, 3, 8, 9], 2626.0),\n",
       " ([0, 1, 2, 8, 7, 6, 5, 4, 3, 9], 3345.0),\n",
       " ([0, 1, 2, 9, 8, 7, 6, 5, 4, 3], 779.0),\n",
       " ([0, 1, 2, 3, 5, 4, 6, 7, 8, 9], 4183.0),\n",
       " ([0, 1, 2, 3, 6, 5, 4, 7, 8, 9], 3288.0),\n",
       " ([0, 1, 2, 3, 7, 6, 5, 4, 8, 9], 1095.0),\n",
       " ([0, 1, 2, 3, 8, 7, 6, 5, 4, 9], 3412.0),\n",
       " ([0, 1, 2, 3, 9, 8, 7, 6, 5, 4], 1976.0),\n",
       " ([0, 1, 2, 3, 4, 6, 5, 7, 8, 9], 2771.0),\n",
       " ([0, 1, 2, 3, 4, 7, 6, 5, 8, 9], 126.0),\n",
       " ([0, 1, 2, 3, 4, 8, 7, 6, 5, 9], 2014.0),\n",
       " ([0, 1, 2, 3, 4, 9, 8, 7, 6, 5], 1919.0),\n",
       " ([0, 1, 2, 3, 4, 5, 7, 6, 8, 9], 1994.0),\n",
       " ([0, 1, 2, 3, 4, 5, 8, 7, 6, 9], 2050.0),\n",
       " ([0, 1, 2, 3, 4, 5, 9, 8, 7, 6], 2640.0),\n",
       " ([0, 1, 2, 3, 4, 5, 6, 8, 7, 9], 2738.0),\n",
       " ([0, 1, 2, 3, 4, 5, 6, 9, 8, 7], 1687.0),\n",
       " ([0, 1, 2, 3, 4, 5, 6, 7, 9, 8], 2230.0)]"
      ]
     },
     "execution_count": 164,
     "metadata": {},
     "output_type": "execute_result"
    }
   ],
   "source": [
    "l=[x for x in range(10)]\n",
    "z=[x for x in range(10,13)]\n",
    "two_edges_exchange(l,2000,distances_matrices[\"A\"])"
   ]
  }
 ],
 "metadata": {
  "kernelspec": {
   "display_name": "base",
   "language": "python",
   "name": "python3"
  },
  "language_info": {
   "codemirror_mode": {
    "name": "ipython",
    "version": 3
   },
   "file_extension": ".py",
   "mimetype": "text/x-python",
   "name": "python",
   "nbconvert_exporter": "python",
   "pygments_lexer": "ipython3",
   "version": "3.9.12"
  }
 },
 "nbformat": 4,
 "nbformat_minor": 2
}
