{
 "cells": [
  {
   "attachments": {},
   "cell_type": "markdown",
   "metadata": {},
   "source": [
    "# Assignment 3 #"
   ]
  },
  {
   "attachments": {},
   "cell_type": "markdown",
   "metadata": {},
   "source": [
    "We are given three columns of integers with a row for each node. The first two columns contain x and y coordinates of the node positions in a plane. The third column contains node costs. The goal is to select exactly 50% of the nodes (if the number of nodes is odd we round the number of nodes to be selected up) and form a Hamiltonian cycle (closed path) through this set of nodes such that the sum of the total length of the path plus the total cost of the selected nodes is minimized. The distances between nodes are calculated as Euclidean distances rounded mathematically to integer values. The distance matrix should be calculated just after reading an instance and then only the distance matrix (no nodes coordinates) should be accessed by optimization methods to allow instances defined only by distance matrices. "
   ]
  },
  {
   "attachments": {},
   "cell_type": "markdown",
   "metadata": {},
   "source": [
    "## Read the data ##"
   ]
  },
  {
   "cell_type": "code",
   "execution_count": 1,
   "metadata": {},
   "outputs": [],
   "source": [
    "import pandas as pd\n",
    "import numpy as np\n",
    "from numpy.typing import ArrayLike, NDArray\n",
    "import matplotlib.pyplot as plt\n",
    "import random\n",
    "from tqdm import tqdm\n",
    "from math import sqrt"
   ]
  },
  {
   "cell_type": "code",
   "execution_count": 2,
   "metadata": {},
   "outputs": [],
   "source": [
    "# read data into dataframes\n",
    "instances = {\n",
    "    \"A\": pd.read_csv(\"data/TSPA.csv\", sep=';', header=None, names=[\"x\", \"y\", \"cost\"]),\n",
    "    \"B\": pd.read_csv(\"data/TSPB.csv\", sep=';', header=None, names=[\"x\", \"y\", \"cost\"]),\n",
    "    \"C\": pd.read_csv(\"data/TSPC.csv\", sep=';', header=None, names=[\"x\", \"y\", \"cost\"]),\n",
    "    \"D\": pd.read_csv(\"data/TSPD.csv\", sep=';', header=None, names=[\"x\", \"y\", \"cost\"]),\n",
    "}"
   ]
  },
  {
   "cell_type": "code",
   "execution_count": 3,
   "metadata": {},
   "outputs": [
    {
     "data": {
      "text/plain": [
       "200"
      ]
     },
     "execution_count": 3,
     "metadata": {},
     "output_type": "execute_result"
    }
   ],
   "source": [
    "len(instances[\"A\"])"
   ]
  },
  {
   "cell_type": "code",
   "execution_count": 4,
   "metadata": {},
   "outputs": [],
   "source": [
    "def calculate_distance_matrix(df: pd.DataFrame) -> NDArray[np.int32]:\n",
    "    \"\"\"\n",
    "    Calculate the distance matrix from the dataframe.\n",
    "    The dataframe contains 'x' and 'y' columns for the coordinates.\n",
    "    The distances are Euclidean, rounded to the nearest integer + the cost of the destination node.\n",
    "    \"\"\"\n",
    "    coordinates = df[['x', 'y']].to_numpy()\n",
    "    costs = df[\"cost\"].to_numpy()\n",
    "    dist_matrix = np.zeros(shape=(len(df), len(df)))\n",
    "    for i in range(len(coordinates)):\n",
    "        for j in range(len(coordinates)):\n",
    "            dist_matrix[i, j] = round(sqrt((coordinates[i, 0] - coordinates[j, 0])**2 + (coordinates[i, 1] - coordinates[j, 1])**2)) + costs[j]\n",
    "    return dist_matrix"
   ]
  },
  {
   "cell_type": "code",
   "execution_count": 5,
   "metadata": {},
   "outputs": [],
   "source": [
    "distances_matrices = {\n",
    "    \"A\": calculate_distance_matrix(instances[\"A\"]),\n",
    "    \"B\": calculate_distance_matrix(instances[\"B\"]),\n",
    "    \"C\": calculate_distance_matrix(instances[\"C\"]),\n",
    "    \"D\": calculate_distance_matrix(instances[\"D\"])\n",
    "}\n",
    "\n",
    "costs = {\n",
    "    \"A\": instances[\"A\"][\"cost\"].to_numpy(),\n",
    "    \"B\": instances[\"B\"][\"cost\"].to_numpy(),\n",
    "    \"C\": instances[\"C\"][\"cost\"].to_numpy(),\n",
    "    \"D\": instances[\"D\"][\"cost\"].to_numpy()\n",
    "}"
   ]
  },
  {
   "cell_type": "code",
   "execution_count": 6,
   "metadata": {},
   "outputs": [],
   "source": [
    "def visualize_selected_route(\n",
    "    selected_nodes_indices: ArrayLike, \n",
    "    dataframe: pd.DataFrame,\n",
    "    title: str) -> None:\n",
    "    \"\"\"\n",
    "    Visualize the selected route returned by the algorithm, including the cost of each node represented by a colormap.\n",
    "\n",
    "    Parameters:\n",
    "    selected_nodes_indices (list): Indices of the selected nodes in the route.\n",
    "    dataframe (DataFrame): DataFrame containing 'x', 'y', and 'cost' columns for each node.\n",
    "    \"\"\"\n",
    "    x = dataframe.loc[selected_nodes_indices, 'x']\n",
    "    y = dataframe.loc[selected_nodes_indices, 'y']\n",
    "    costs = dataframe.loc[selected_nodes_indices, 'cost']\n",
    "\n",
    "    cmap = plt.cm.get_cmap('viridis')\n",
    "    norm = plt.Normalize(vmin=min(costs), vmax=max(costs))\n",
    "\n",
    "    plt.figure(figsize=(15, 10))\n",
    "    scatter = plt.scatter(x, y, c=costs, cmap=cmap, norm=norm, s=100)\n",
    "    plt.colorbar(scatter, label='Node Cost')\n",
    "\n",
    "    for i, node in enumerate(selected_nodes_indices):\n",
    "        start_node = selected_nodes_indices[i]\n",
    "        end_node = selected_nodes_indices[(i + 1) % len(selected_nodes_indices)]\n",
    "        plt.plot([x[start_node], x[end_node]], [y[start_node], y[end_node]], 'k-', lw=1)\n",
    "\n",
    "    plt.title(title, fontsize=18)\n",
    "    plt.xlabel('X Coordinate', fontsize=14)\n",
    "    plt.ylabel('Y Coordinate', fontsize=14)\n",
    "    plt.grid(True)\n",
    "    plt.show()"
   ]
  },
  {
   "cell_type": "code",
   "execution_count": 103,
   "metadata": {},
   "outputs": [],
   "source": [
    "\n",
    "def inter_route_exchange(selected , unselected):\n",
    "    solutions = []\n",
    "    for x in range(len(selected)+1):\n",
    "        for node in unselected:\n",
    "            temp=selected[:x]+[node]+selected[x:]\n",
    "            solutions.append(temp)\n",
    "            \n",
    "    return solutions\n",
    "\n",
    "def two_edges_exchange(selected):\n",
    "    solutions=[]\n",
    "    for x in range(len(selected)-1): \n",
    "        for y in range(x+1,len(selected)):\n",
    "            temp=selected[:]\n",
    "            temp[x:y+1] = temp[x:y+1][::-1]\n",
    "            \n",
    "            solutions.append(temp)\n",
    "    print(selected)\n",
    "    return solutions\n",
    "\n",
    "def two_nodes_exchange(selected):\n",
    "    solutions=[]\n",
    "    for x in range(len(selected)): \n",
    "        temp=selected[:]\n",
    "        for y in range(x+1,len(selected)):\n",
    "            temp[x],temp[y]=temp[y],temp[x]\n",
    "            solutions.append(temp)\n",
    "    return solutions\n",
    "\n",
    "def objective_function(solution,dist_matrix):\n",
    "    for x in range(len(solution)):\n",
    "        total_dist+=dist_matrix[solution[x-1],solution[x]]\n",
    "    return total_dist"
   ]
  }
 ],
 "metadata": {
  "kernelspec": {
   "display_name": "base",
   "language": "python",
   "name": "python3"
  },
  "language_info": {
   "codemirror_mode": {
    "name": "ipython",
    "version": 3
   },
   "file_extension": ".py",
   "mimetype": "text/x-python",
   "name": "python",
   "nbconvert_exporter": "python",
   "pygments_lexer": "ipython3",
   "version": "3.9.12"
  }
 },
 "nbformat": 4,
 "nbformat_minor": 2
}
