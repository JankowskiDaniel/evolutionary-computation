{
 "cells": [
  {
   "cell_type": "code",
   "execution_count": 2,
   "metadata": {},
   "outputs": [
    {
     "data": {
      "text/plain": [
       "[(9, 10), (3, 4)]"
      ]
     },
     "execution_count": 2,
     "metadata": {},
     "output_type": "execute_result"
    }
   ],
   "source": [
    "import random\n",
    "\n",
    "a = [(1,2), (3,4), (5,6), (7,8), (9,10)]\n",
    "random.sample(a, 2)"
   ]
  },
  {
   "cell_type": "code",
   "execution_count": null,
   "metadata": {},
   "outputs": [],
   "source": []
  },
  {
   "cell_type": "code",
   "execution_count": 29,
   "metadata": {},
   "outputs": [
    {
     "name": "stdout",
     "output_type": "stream",
     "text": [
      "All common subpaths: [[10, 7, 4], [8, 2], [6, 5, 1], [13, 14]]\n"
     ]
    }
   ],
   "source": [
    "def find_common_subpaths(path1, path2):\n",
    "    common_subpaths = []\n",
    "    len1, len2 = len(path1), len(path2)\n",
    "\n",
    "    for i in range(len1):\n",
    "        for j in range(len2):\n",
    "            k = 0\n",
    "            while i + k < len1 and j + k < len2 and (path1[i + k] == path2[j + k] or path1[i + k] == path2[j + k]):\n",
    "                k += 1\n",
    "            if k >= 2:\n",
    "                current_subpath = path1[i:i + k]\n",
    "                is_subset = any(set(current_subpath).issubset(set(subpath)) for subpath in common_subpaths)\n",
    "                if not is_subset:\n",
    "                    common_subpaths.append(current_subpath)\n",
    "\n",
    "    return common_subpaths\n",
    "\n",
    "\n",
    "path1 = [10, 7, 4, 9, 8, 2, 6, 5, 1, 13, 14]\n",
    "path2 = [10, 7, 4, 11, 8, 2, 9, 6,5,1,3, 11, 13, 14 ]\n",
    "\n",
    "result = find_common_subpaths(path1, path2)\n",
    "print(\"All common subpaths:\", result)\n"
   ]
  },
  {
   "cell_type": "code",
   "execution_count": 26,
   "metadata": {},
   "outputs": [
    {
     "name": "stdout",
     "output_type": "stream",
     "text": [
      "All common subpaths: [[7, 4], [10, 7, 4], [8, 2]]\n"
     ]
    }
   ],
   "source": [
    "def find_common_subpaths(path1, path2):\n",
    "    common_subpaths = set()\n",
    "    len1, len2 = len(path1), len(path2)\n",
    "\n",
    "    for i in range(len1):\n",
    "        for j in range(len2):\n",
    "            k = 1\n",
    "            while i + k < len1 and j + k < len2 and (path1[i + k] == path2[j + k]):\n",
    "                k += 1\n",
    "            if k >= 2:\n",
    "                current_subpath = path1[i:i + k]\n",
    "                reversed_subpath = current_subpath[::-1]\n",
    "\n",
    "                if tuple(current_subpath) not in common_subpaths and tuple(reversed_subpath) not in common_subpaths:\n",
    "                    common_subpaths.add(tuple(current_subpath))\n",
    "\n",
    "    return [list(subpath) for subpath in common_subpaths]\n",
    "\n",
    "\n",
    "path1 = [10, 7, 4, 9, 8, 2, 6, 5]\n",
    "path2 = [10, 7, 4, 11, 8, 2, 5, 6]\n",
    "\n",
    "result = find_common_subpaths(path1, path2)\n",
    "print(\"All common subpaths:\", result)\n"
   ]
  }
 ],
 "metadata": {
  "kernelspec": {
   "display_name": "Python 3",
   "language": "python",
   "name": "python3"
  },
  "language_info": {
   "codemirror_mode": {
    "name": "ipython",
    "version": 3
   },
   "file_extension": ".py",
   "mimetype": "text/x-python",
   "name": "python",
   "nbconvert_exporter": "python",
   "pygments_lexer": "ipython3",
   "version": "3.10.11"
  }
 },
 "nbformat": 4,
 "nbformat_minor": 2
}
