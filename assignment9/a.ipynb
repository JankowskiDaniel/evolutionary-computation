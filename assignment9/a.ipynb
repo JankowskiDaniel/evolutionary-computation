{
 "cells": [
  {
   "cell_type": "code",
   "execution_count": 2,
   "metadata": {},
   "outputs": [
    {
     "data": {
      "text/plain": [
       "[(9, 10), (3, 4)]"
      ]
     },
     "execution_count": 2,
     "metadata": {},
     "output_type": "execute_result"
    }
   ],
   "source": [
    "import random\n",
    "\n",
    "a = [(1,2), (3,4), (5,6), (7,8), (9,10)]\n",
    "random.sample(a, 2)"
   ]
  },
  {
   "cell_type": "code",
   "execution_count": null,
   "metadata": {},
   "outputs": [],
   "source": []
  },
  {
   "cell_type": "code",
   "execution_count": 29,
   "metadata": {},
   "outputs": [
    {
     "name": "stdout",
     "output_type": "stream",
     "text": [
      "All common subpaths: [[10, 7, 4], [8, 2], [6, 5, 1], [13, 14]]\n"
     ]
    }
   ],
   "source": [
    "def find_common_subpaths(path1, path2):\n",
    "    common_subpaths = []\n",
    "    len1, len2 = len(path1), len(path2)\n",
    "\n",
    "    for i in range(len1):\n",
    "        for j in range(len2):\n",
    "            k = 0\n",
    "            while i + k < len1 and j + k < len2 and (path1[i + k] == path2[j + k] or path1[i + k] == path2[j + k]):\n",
    "                k += 1\n",
    "            if k >= 2:\n",
    "                current_subpath = path1[i:i + k]\n",
    "                is_subset = any(set(current_subpath).issubset(set(subpath)) for subpath in common_subpaths)\n",
    "                if not is_subset:\n",
    "                    common_subpaths.append(current_subpath)\n",
    "\n",
    "    return common_subpaths\n",
    "\n",
    "\n",
    "path1 = [10, 7, 4, 9, 8, 2, 6, 5, 1, 13, 14]\n",
    "path2 = [10, 7, 4, 11, 8, 2, 9, 6,5,1,3, 11, 13, 14 ]\n",
    "\n",
    "result = find_common_subpaths(path1, path2)\n",
    "print(\"All common subpaths:\", result)\n"
   ]
  },
  {
   "cell_type": "code",
   "execution_count": 26,
   "metadata": {},
   "outputs": [
    {
     "name": "stdout",
     "output_type": "stream",
     "text": [
      "All common subpaths: [[7, 4], [10, 7, 4], [8, 2]]\n"
     ]
    }
   ],
   "source": [
    "def find_common_subpaths(path1, path2):\n",
    "    common_subpaths = set()\n",
    "    len1, len2 = len(path1), len(path2)\n",
    "\n",
    "    for i in range(len1):\n",
    "        for j in range(len2):\n",
    "            k = 1\n",
    "            while i + k < len1 and j + k < len2 and (path1[i + k] == path2[j + k]):\n",
    "                k += 1\n",
    "            if k >= 2:\n",
    "                current_subpath = path1[i:i + k]\n",
    "                reversed_subpath = current_subpath[::-1]\n",
    "\n",
    "                if tuple(current_subpath) not in common_subpaths and tuple(reversed_subpath) not in common_subpaths:\n",
    "                    common_subpaths.add(tuple(current_subpath))\n",
    "\n",
    "    return [list(subpath) for subpath in common_subpaths]\n",
    "\n",
    "\n",
    "path1 = [10, 7, 4, 9, 8, 2, 6, 5]\n",
    "path2 = [10, 7, 4, 11, 8, 2, 5, 6]\n",
    "\n",
    "result = find_common_subpaths(path1, path2)\n",
    "print(\"All common subpaths:\", result)\n"
   ]
  },
  {
   "cell_type": "code",
   "execution_count": 1,
   "metadata": {},
   "outputs": [
    {
     "name": "stdout",
     "output_type": "stream",
     "text": [
      "Common subpaths: []\n"
     ]
    }
   ],
   "source": [
    "def find_common_subpaths(path1, path2):\n",
    "    common_subpaths = []\n",
    "\n",
    "    for i in range(len(path1)):\n",
    "        for j in range(len(path2)):\n",
    "            subpath1, subpath2 = find_subpath(path1, i), find_subpath(path2, j)\n",
    "            if subpath1 == subpath2 and len(subpath1) >= 2:\n",
    "                common_subpaths.append(subpath1)\n",
    "\n",
    "    return common_subpaths\n",
    "\n",
    "\n",
    "def find_subpath(path, index):\n",
    "    subpath = [path[index]]\n",
    "    next_index = (index + 1) % len(path)\n",
    "\n",
    "    while path[next_index] not in subpath:\n",
    "        subpath.append(path[next_index])\n",
    "        next_index = (next_index + 1) % len(path)\n",
    "\n",
    "    return subpath\n",
    "\n",
    "\n",
    "# Example usage:\n",
    "path1 = [1, 4, 9, 10, 6, 2, 8, 7]\n",
    "path2 = [6, 2, 5, 9, 8, 7, 1]\n",
    "\n",
    "common_subpaths = find_common_subpaths(path1, path2)\n",
    "\n",
    "print(\"Common subpaths:\", common_subpaths)"
   ]
  },
  {
   "cell_type": "code",
   "execution_count": 6,
   "metadata": {},
   "outputs": [
    {
     "data": {
      "text/plain": [
       "{(1, 4), (6, 2), (8, 7), (10, 6)}"
      ]
     },
     "execution_count": 6,
     "metadata": {},
     "output_type": "execute_result"
    }
   ],
   "source": [
    "n = 10\n",
    "path1 = [1, 4, 9, 10, 6, 2, 8, 7, 3, 5]\n",
    "path2 = [6, 2, 5, 9, 8, 7, 1, 4, 3, 10]\n",
    "edges1 = []\n",
    "edges2 = []\n",
    "for i in range(n):\n",
    "    edges1.append((path1[i], path1[(i+1)%n]))\n",
    "    edges2.append((path2[i], path2[(i+1)%n]))\n",
    "    edges2.append((path2[(i+1)%n], path2[i]))    \n",
    "e1_set = set(edges1)\n",
    "e2_set = set(edges2)\n",
    "e1_set.intersection(e2_set)\n",
    "\n"
   ]
  },
  {
   "cell_type": "code",
   "execution_count": 24,
   "metadata": {},
   "outputs": [
    {
     "name": "stdout",
     "output_type": "stream",
     "text": [
      "[(6, 2), (10, 6), (2, 1), (8, 7), (5, 4), (1, 4)]\n"
     ]
    },
    {
     "data": {
      "text/plain": [
       "[(2, 6), (6, 10), (2, 1), (1, 4), (4, 5), (8, 7)]"
      ]
     },
     "execution_count": 24,
     "metadata": {},
     "output_type": "execute_result"
    }
   ],
   "source": [
    "edges = {(1, 4), (6, 2), (8, 7), (10, 6), (5, 4), (2, 1)}\n",
    "edges = list(edges)\n",
    "ordered_edges = []\n",
    "\n",
    "added = False\n",
    "while edges:\n",
    "    # print(edges)\n",
    "    if not added:\n",
    "        edge_to_add = edges.pop(0)\n",
    "    added = False\n",
    "    for edge in edges:\n",
    "        if edge_to_add[1] == edge[0]:\n",
    "            ordered_edges.append(edge_to_add)\n",
    "            edge_to_add = edge\n",
    "            edges.remove(edge)\n",
    "            added = True\n",
    "            break\n",
    "        elif edge_to_add[1] == edge[1]:\n",
    "            ordered_edges.append(edge_to_add)\n",
    "            edge_to_add = edge[::-1]\n",
    "            edges.remove(edge)\n",
    "            added = True\n",
    "            break\n",
    "        elif edge_to_add[0] == edge[1] and not added:\n",
    "            ordered_edges.append(edge_to_add[::-1])\n",
    "            edge_to_add = edge[::-1]\n",
    "            edges.remove(edge)\n",
    "            added = True\n",
    "            break\n",
    "        elif edge_to_add[0] == edge[0] and not added:\n",
    "            ordered_edges.append(edge_to_add[::-1])\n",
    "            edges.remove(edge)\n",
    "            edge_to_add = edge\n",
    "            added = True\n",
    "            break\n",
    "    if not added or not edges:\n",
    "        ordered_edges.append(edge_to_add)\n",
    "        added = False\n",
    "\n",
    "        \n",
    "ordered_edges"
   ]
  },
  {
   "cell_type": "code",
   "execution_count": 25,
   "metadata": {},
   "outputs": [
    {
     "name": "stdout",
     "output_type": "stream",
     "text": [
      "[(1, 4), (1, 4), (1, 4), (1, 4), (1, 4), (1, 4)]\n"
     ]
    }
   ],
   "source": [
    "def order_edges(edges):\n",
    "    if not edges:\n",
    "        return []\n",
    "\n",
    "    # Create a dictionary to represent the graph\n",
    "    graph = {}\n",
    "    for edge in edges:\n",
    "        if edge[0] not in graph:\n",
    "            graph[edge[0]] = []\n",
    "        graph[edge[0]].append(edge[1])\n",
    "\n",
    "    # Initialize the ordered edges list\n",
    "    ordered_edges = []\n",
    "\n",
    "    # Start with the first edge in the input list\n",
    "    current_edge = edges[0]\n",
    "    ordered_edges.append(current_edge)\n",
    "\n",
    "    # Iterate until all edges are ordered\n",
    "    while len(ordered_edges) < len(edges):\n",
    "        # Find the next edge by looking at the last node of the current edge\n",
    "        next_node = current_edge[1]\n",
    "\n",
    "        # If there are edges starting from the next node, choose the first one\n",
    "        if next_node in graph and graph[next_node]:\n",
    "            next_edge = (next_node, graph[next_node].pop(0))\n",
    "            ordered_edges.append(next_edge)\n",
    "            current_edge = next_edge\n",
    "        else:\n",
    "            # If there are no more edges from the next node, insert a random edge\n",
    "            random_edge = edges[0]  # You can choose a different strategy for randomness if needed\n",
    "            ordered_edges.append(random_edge)\n",
    "            current_edge = random_edge\n",
    "\n",
    "    return ordered_edges\n",
    "\n",
    "# Example usage\n",
    "edges = [(1, 4), (6, 2), (8, 7), (10, 6), (5, 4), (2, 1)]\n",
    "ordered_edges = order_edges(edges)\n",
    "print(ordered_edges)"
   ]
  },
  {
   "cell_type": "code",
   "execution_count": 15,
   "metadata": {},
   "outputs": [
    {
     "data": {
      "text/plain": [
       "[]"
      ]
     },
     "execution_count": 15,
     "metadata": {},
     "output_type": "execute_result"
    }
   ],
   "source": [
    "list(edges)"
   ]
  }
 ],
 "metadata": {
  "kernelspec": {
   "display_name": "Python 3",
   "language": "python",
   "name": "python3"
  },
  "language_info": {
   "codemirror_mode": {
    "name": "ipython",
    "version": 3
   },
   "file_extension": ".py",
   "mimetype": "text/x-python",
   "name": "python",
   "nbconvert_exporter": "python",
   "pygments_lexer": "ipython3",
   "version": "3.10.11"
  }
 },
 "nbformat": 4,
 "nbformat_minor": 2
}
