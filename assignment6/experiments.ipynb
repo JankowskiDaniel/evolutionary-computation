{
 "cells": [
  {
   "cell_type": "code",
   "execution_count": 3,
   "metadata": {},
   "outputs": [],
   "source": [
    "import json\n",
    "from math import sqrt\n",
    "import random\n",
    "import pandas as pd\n",
    "import numpy as np\n",
    "from numpy import ndarray as NDArray\n",
    "import matplotlib.pyplot as plt\n",
    "# def visualize_selected_route(\n",
    "#     selected_nodes_indices: list[int], \n",
    "#     dataframe: pd.DataFrame,\n",
    "#     title: str) -> None:\n",
    "#     \"\"\"\n",
    "#     Visualize the selected route returned by the algorithm, including the cost of each node represented by a colormap.\n",
    "\n",
    "#     Parameters:\n",
    "#     selected_nodes_indices (list): Indices of the selected nodes in the route.\n",
    "#     dataframe (DataFrame): DataFrame containing 'x', 'y', and 'cost' columns for each node.\n",
    "#     \"\"\"\n",
    "#     x = dataframe[\"x\"].to_numpy()\n",
    "#     y = dataframe[\"y\"].to_numpy()\n",
    "#     costs = dataframe[\"cost\"].to_numpy()\n",
    "\n",
    "#     cmap = plt.cm.get_cmap('viridis')\n",
    "#     norm = plt.Normalize(vmin=min(costs), vmax=max(costs))\n",
    "\n",
    "#     plt.figure(figsize=(15, 10))\n",
    "#     scatter = plt.scatter(x, y, c=costs, cmap=cmap, norm=norm, s=100)\n",
    "#     plt.colorbar(scatter, label='Node Cost')\n",
    "\n",
    "#     for i, node in enumerate(selected_nodes_indices):\n",
    "#         start_node = selected_nodes_indices[i]\n",
    "#         end_node = selected_nodes_indices[(i + 1) % len(selected_nodes_indices)]\n",
    "#         plt.plot([x[start_node], x[end_node]], [y[start_node], y[end_node]], 'k-', lw=1)\n",
    "\n",
    "#     plt.title(title, fontsize=18)\n",
    "#     plt.xlabel('X Coordinate', fontsize=14)\n",
    "#     plt.ylabel('Y Coordinate', fontsize=14)\n",
    "#     plt.grid(True)\n",
    "#     plt.savefig(title + \".png\")\n",
    "#     plt.show()\n"
   ]
  },
  {
   "cell_type": "code",
   "execution_count": 13,
   "metadata": {},
   "outputs": [],
   "source": [
    "instances = {\n",
    "    \"A\": pd.read_csv(\"data/TSPA.csv\", sep=';', header=None, names=[\"x\", \"y\", \"cost\"]),\n",
    "    \"B\": pd.read_csv(\"data/TSPB.csv\", sep=';', header=None, names=[\"x\", \"y\", \"cost\"]),\n",
    "    \"C\": pd.read_csv(\"data/TSPC.csv\", sep=';', header=None, names=[\"x\", \"y\", \"cost\"]),\n",
    "    \"D\": pd.read_csv(\"data/TSPD.csv\", sep=';', header=None, names=[\"x\", \"y\", \"cost\"]),\n",
    "}"
   ]
  },
  {
   "cell_type": "code",
   "execution_count": 9,
   "metadata": {},
   "outputs": [
    {
     "name": "stdout",
     "output_type": "stream",
     "text": [
      "[[95, 169, 8, 124, 80, 14, 111, 94, 72, 190, 98, 66, 172, 156, 6, 24, 45, 186, 127, 88, 153, 161, 76, 21, 194, 79, 87, 141, 144, 154, 81, 180, 32, 62, 108, 171, 15, 117, 53, 22, 55, 195, 113, 74, 163, 71, 20, 64, 185, 116, 27, 147, 96, 59, 143, 159, 37, 132, 36, 128, 164, 178, 19, 0, 149, 50, 91, 121, 43, 77, 4, 114, 175, 167, 101, 60, 126, 174, 199, 137, 41, 177, 1, 75, 189, 109, 119, 130, 152, 11, 48, 106, 26, 134, 99, 135, 51, 112, 73, 31], 74509.0]\n",
      "[[148, 140, 174, 51, 70, 91, 156, 67, 114, 158, 162, 150, 117, 192, 196, 44, 71, 119, 59, 166, 85, 58, 89, 129, 64, 159, 147, 181, 170, 189, 47, 185, 73, 61, 136, 33, 29, 18, 132, 12, 107, 139, 52, 65, 16, 172, 95, 135, 198, 190, 19, 145, 157, 80, 153, 55, 88, 137, 37, 165, 36, 25, 134, 154, 112, 99, 57, 0, 169, 66, 26, 92, 122, 143, 121, 127, 24, 50, 131, 103, 38, 101, 31, 179, 197, 183, 34, 128, 5, 2, 182, 163, 40, 8, 63, 115, 82, 142, 130, 141], 67998.0]\n",
      "[[31, 73, 112, 51, 135, 196, 95, 169, 8, 26, 106, 48, 92, 130, 119, 109, 189, 75, 1, 177, 41, 137, 199, 192, 77, 43, 50, 149, 0, 19, 178, 164, 159, 143, 59, 147, 116, 27, 96, 185, 64, 20, 71, 61, 113, 163, 74, 195, 53, 22, 55, 36, 132, 128, 145, 76, 161, 91, 121, 114, 4, 2, 175, 167, 45, 186, 127, 88, 153, 157, 21, 79, 194, 171, 117, 15, 108, 62, 93, 32, 180, 81, 154, 102, 144, 87, 141, 24, 6, 156, 172, 66, 98, 190, 72, 12, 94, 89, 111, 14], 48156.0]\n",
      "[[185, 18, 29, 33, 73, 61, 136, 79, 145, 157, 80, 153, 4, 55, 88, 36, 25, 134, 154, 165, 37, 137, 146, 57, 0, 99, 43, 50, 24, 127, 121, 103, 38, 101, 31, 92, 122, 143, 179, 197, 183, 34, 5, 167, 128, 66, 169, 98, 135, 198, 190, 19, 95, 172, 16, 52, 14, 8, 63, 115, 82, 53, 142, 130, 141, 148, 140, 188, 161, 174, 51, 70, 91, 156, 67, 114, 72, 58, 89, 129, 64, 159, 147, 187, 181, 100, 170, 189, 59, 119, 193, 71, 162, 150, 117, 196, 44, 107, 12, 132], 45364.0]\n"
     ]
    }
   ],
   "source": [
    "with open(\"Results/best_solutions_MSLS.json\", \"r\") as f:\n",
    "    data= json.load(f)\n",
    "instance=[\"A\",\"B\",\"C\",\"D\"]\n",
    "for x in data:\n",
    "    print(list(data[x]))\n",
    "# for idx,x in enumerate(data):\n",
    "#     visualize_selected_route(data[x][0], instances[instance[idx]],\"Multi Start Local Search - TSP\"+instance[idx])\n",
    "with open(\"Results/best_solutions_ILS.json\", \"r\") as f:\n",
    "    data= json.load(f)\n",
    "# for x in data:\n",
    "#     print(list(data[x]))\n",
    "# for idx,x in enumerate(data):\n",
    "#     visualize_selected_route(data[x][0], instances[instance[idx]],\"Iterated Local Search - TSP\"+instance[idx])\n"
   ]
  }
 ],
 "metadata": {
  "kernelspec": {
   "display_name": "base",
   "language": "python",
   "name": "python3"
  },
  "language_info": {
   "codemirror_mode": {
    "name": "ipython",
    "version": 3
   },
   "file_extension": ".py",
   "mimetype": "text/x-python",
   "name": "python",
   "nbconvert_exporter": "python",
   "pygments_lexer": "ipython3",
   "version": "3.8.13"
  }
 },
 "nbformat": 4,
 "nbformat_minor": 2
}
